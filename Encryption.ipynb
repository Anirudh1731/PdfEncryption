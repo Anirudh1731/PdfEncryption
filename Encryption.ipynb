{
 "cells": [
  {
   "cell_type": "code",
   "execution_count": 1,
   "id": "4f16a3f9",
   "metadata": {},
   "outputs": [
    {
     "name": "stdout",
     "output_type": "stream",
     "text": [
      "Collecting PyPDF2\n",
      "  Downloading pypdf2-3.0.1-py3-none-any.whl (232 kB)\n",
      "     ---------------------------------------- 0.0/232.6 kB ? eta -:--:--\n",
      "     - -------------------------------------- 10.2/232.6 kB ? eta -:--:--\n",
      "     - -------------------------------------- 10.2/232.6 kB ? eta -:--:--\n",
      "     ------ ------------------------------ 41.0/232.6 kB 326.8 kB/s eta 0:00:01\n",
      "     ------------- ----------------------- 81.9/232.6 kB 573.4 kB/s eta 0:00:01\n",
      "     ------------------- ---------------- 122.9/232.6 kB 654.9 kB/s eta 0:00:01\n",
      "     ------------------------------------ - 225.3/232.6 kB 1.1 MB/s eta 0:00:01\n",
      "     ------------------------------------ - 225.3/232.6 kB 1.1 MB/s eta 0:00:01\n",
      "     ------------------------------------ 232.6/232.6 kB 791.2 kB/s eta 0:00:00\n",
      "Installing collected packages: PyPDF2\n",
      "Successfully installed PyPDF2-3.0.1\n"
     ]
    }
   ],
   "source": [
    "!pip install PyPDF2"
   ]
  },
  {
   "cell_type": "code",
   "execution_count": 5,
   "id": "865b501b",
   "metadata": {},
   "outputs": [],
   "source": [
    "from PyPDF2 import PdfReader , PdfWriter"
   ]
  },
  {
   "cell_type": "code",
   "execution_count": 6,
   "id": "1761fda0",
   "metadata": {},
   "outputs": [],
   "source": [
    "file_reader=PdfReader('filename')"
   ]
  },
  {
   "cell_type": "code",
   "execution_count": 7,
   "id": "4f902c63",
   "metadata": {},
   "outputs": [],
   "source": [
    "out_file=PdfWriter()"
   ]
  },
  {
   "cell_type": "code",
   "execution_count": 15,
   "id": "9a1a76cb",
   "metadata": {},
   "outputs": [
    {
     "name": "stdout",
     "output_type": "stream",
     "text": [
      "1\n"
     ]
    }
   ],
   "source": [
    "print(len(file_reader.pages))"
   ]
  },
  {
   "cell_type": "code",
   "execution_count": 18,
   "id": "0504d82e",
   "metadata": {},
   "outputs": [],
   "source": [
    "for i in range(len(file_reader.pages)):\n",
    "    details=file_reader.pages[i]\n",
    "    out_file.add_page(details)"
   ]
  },
  {
   "cell_type": "code",
   "execution_count": 19,
   "id": "989d4e55",
   "metadata": {},
   "outputs": [],
   "source": [
    "password='Password _needed'\n",
    "\n",
    "out_file.encrypt(password)"
   ]
  },
  {
   "cell_type": "code",
   "execution_count": 20,
   "id": "9de47975",
   "metadata": {},
   "outputs": [],
   "source": [
    "with open('surprise1.pdf','wb') as filename:\n",
    "    out_file.write(filename)"
   ]
  },
  {
   "cell_type": "code",
   "execution_count": null,
   "id": "99888996",
   "metadata": {},
   "outputs": [],
   "source": []
  }
 ],
 "metadata": {
  "kernelspec": {
   "display_name": "Python 3 (ipykernel)",
   "language": "python",
   "name": "python3"
  },
  "language_info": {
   "codemirror_mode": {
    "name": "ipython",
    "version": 3
   },
   "file_extension": ".py",
   "mimetype": "text/x-python",
   "name": "python",
   "nbconvert_exporter": "python",
   "pygments_lexer": "ipython3",
   "version": "3.11.5"
  }
 },
 "nbformat": 4,
 "nbformat_minor": 5
}
